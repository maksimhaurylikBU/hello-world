{
  "cells": [
    {
      "cell_type": "markdown",
      "metadata": {
        "id": "MdIhZNfz1wr7"
      },
      "source": [
        "# Video: Calculating Basic Statistics with Python\n",
        "\n",
        "In this video, you will learn how to compute means and standard deviations in Python."
      ]
    },
    {
      "cell_type": "markdown",
      "metadata": {
        "id": "NehzIPUJwrz9"
      },
      "source": [
        "## Calculating Basic Statistics with Python\n",
        "\n",
        "* $X = [x_1, x_2, \\ldots, x_n]$\n",
        "* $\\mathrm{mean}(X) = \\mu_X = \\bar{X}$\n",
        "* $\\mathrm{stdev}(X) = \\sigma_X$"
      ]
    },
    {
      "cell_type": "markdown",
      "metadata": {
        "id": "PA5LPS-01603"
      },
      "source": [
        "Script:\n",
        "* In this video, I will show you how to calculate means and standard deviations in Pythons.\n",
        "* I will focus on just the calculations, and not try to wrap them in a function, to emphasize how the calculation works.\n",
        "* Then I will show you can use a couple libraries that we will cover later to efficiently perform these calculations."
      ]
    },
    {
      "cell_type": "markdown",
      "metadata": {
        "id": "Gz5RbIJnxl6B"
      },
      "source": [
        "## Calculating the Mean with Python\n",
        "\n",
        "* $X = [x_1, x_2, \\ldots, x_n]$\n",
        "* $\\mathrm{mean}(X) = \\mu_X = \\bar{X} = \\frac{\\sum_i x_i}{|X|}$"
      ]
    },
    {
      "cell_type": "markdown",
      "metadata": {
        "id": "JKAtZ8rW28NM"
      },
      "source": [
        "Script:\n",
        "* Let's start with calculating the mean.\n",
        "* For a data set $X$ with values $x_1$, $x_2$, and so on up to $x_n$, the calculation is simple.\n",
        "* First you add up all the values $x_1$ through $x_n$, and then you divide by $n$, the number of values.\n",
        "* Let's do that with a small data set.\n",
        "* Just 1, 2, 3, 4, 5."
      ]
    },
    {
      "cell_type": "code",
      "execution_count": null,
      "metadata": {
        "id": "WdGnQdItIYP4"
      },
      "outputs": [],
      "source": [
        "X = [1, 2, 3, 4, 5]"
      ]
    },
    {
      "cell_type": "markdown",
      "metadata": {
        "id": "e_gr2vTX07vX"
      },
      "source": [
        "Script:\n",
        "* To calculate the sum manually, we can just type in 1 plus 2 plus 3 plus 4 plus 5."
      ]
    },
    {
      "cell_type": "code",
      "execution_count": null,
      "metadata": {
        "colab": {
          "base_uri": "https://localhost:8080/"
        },
        "id": "4evs6oWc1Ara",
        "outputId": "492dfa19-18f1-45f8-a7b8-c51401654006"
      },
      "outputs": [
        {
          "data": {
            "text/plain": [
              "15"
            ]
          },
          "execution_count": null,
          "metadata": {},
          "output_type": "execute_result"
        }
      ],
      "source": [
        "1 + 2 + 3 + 4 + 5"
      ]
    },
    {
      "cell_type": "markdown",
      "metadata": {
        "id": "nZoeu_YX1DSK"
      },
      "source": [
        "Script:\n",
        "* Or we can use Python's built-in `sum` function which will give us a shorter more concise version that will work for bigger data sets.\n",
        "* We do not want to type in every number every time, of course."
      ]
    },
    {
      "cell_type": "code",
      "execution_count": null,
      "metadata": {
        "colab": {
          "base_uri": "https://localhost:8080/"
        },
        "id": "qJd4vV0s1C0H",
        "outputId": "3b70e050-3407-4fec-81b4-71fea0e859a3"
      },
      "outputs": [
        {
          "data": {
            "text/plain": [
              "15"
            ]
          },
          "execution_count": null,
          "metadata": {},
          "output_type": "execute_result"
        }
      ],
      "source": [
        "sum(X)"
      ]
    },
    {
      "cell_type": "markdown",
      "metadata": {
        "id": "ruekkvUp1UhH"
      },
      "source": [
        "Script:\n",
        "* What is the length of $X$?\n",
        "* Looking at the definition of $X$, we can see that there are 5 numbers.\n",
        "* Or we can use Python's built-in `len` function, short for length, to calculate it more generally."
      ]
    },
    {
      "cell_type": "code",
      "execution_count": null,
      "metadata": {
        "colab": {
          "base_uri": "https://localhost:8080/"
        },
        "id": "cPFB2bUu1zi9",
        "outputId": "946f2e61-b907-4298-a8f8-f8c7ca3ae31e"
      },
      "outputs": [
        {
          "data": {
            "text/plain": [
              "5"
            ]
          },
          "execution_count": null,
          "metadata": {},
          "output_type": "execute_result"
        }
      ],
      "source": [
        "len(X)"
      ]
    },
    {
      "cell_type": "markdown",
      "metadata": {
        "id": "-t33-jg51ylj"
      },
      "source": [
        "Script:\n",
        "* Now we have all the pieces to finish the computation of the mean."
      ]
    },
    {
      "cell_type": "code",
      "execution_count": null,
      "metadata": {
        "colab": {
          "base_uri": "https://localhost:8080/"
        },
        "id": "J0uh_uv717SJ",
        "outputId": "7e9d6e32-01b7-42da-eee4-1bd6c8d8a174"
      },
      "outputs": [
        {
          "data": {
            "text/plain": [
              "3.0"
            ]
          },
          "execution_count": null,
          "metadata": {},
          "output_type": "execute_result"
        }
      ],
      "source": [
        "sum(X) / len(X)"
      ]
    },
    {
      "cell_type": "markdown",
      "metadata": {
        "id": "cYWIX6qQ19k8"
      },
      "source": [
        "Script:\n",
        "* That answer should make intuitive sense for this $X$.\n",
        "* It is right in the middle, and the values are evenly split on each side.\n",
        "* Most cases won't be so neat, and beware that loose description also works for the median in this case, so don't just pick the middle value for the mean.\n"
      ]
    },
    {
      "cell_type": "markdown",
      "metadata": {
        "id": "4ddRue6x2YLz"
      },
      "source": [
        "## Using NumPy to Calculate the Mean\n",
        "\n",
        "Libraries give us pre-written code to solve common tasks.\n",
        "* Pre-written\n",
        "* Pre-tested\n",
        "* Often faster\n",
        "\n",
        "NumPy is the first library we will use for these common tasks."
      ]
    },
    {
      "cell_type": "markdown",
      "metadata": {
        "id": "kZRN3SIR3Y6X"
      },
      "source": [
        "Script:\n",
        "* Next, we will look at using libraries like NumPy and Pandas to perform these calculations.\n",
        "* Libraries are programming resources that have code that is already written for common tasks.\n",
        "* They save us time writing the same code over and over again from scratch, or copy pasting from previous projects.\n",
        "* The libraries that we recommend in this program have been developed over many years and have been thoroughly tested and usually are significantly faster than code you would quickly write.\n",
        "* That is especially the case when you start working with larger data sets."
      ]
    },
    {
      "cell_type": "markdown",
      "metadata": {
        "id": "EoY23GQc4A2V"
      },
      "source": [
        "Script:\n",
        "* We will start with the NumPy library.\n",
        "* We make the NumPy library accessible to our code with an import statement."
      ]
    },
    {
      "cell_type": "code",
      "execution_count": null,
      "metadata": {
        "id": "6UkpUPSz2oUv"
      },
      "outputs": [],
      "source": [
        "import numpy as np"
      ]
    },
    {
      "cell_type": "markdown",
      "metadata": {
        "id": "kZpqyd6l4M97"
      },
      "source": [
        "Script:\n",
        "* In this import statement, we imported the NumPy library with the alias `np`.\n",
        "* You can think of this as a short nickname since we will be referencing the NumPy library a lot.\n",
        "* Most code examples on the internet will use `np` instead of spelling out NumPy all the time.\n",
        "* The NumPy library is focused on array operations.\n",
        "* We can convert the `X` variable easily as follows.\n",
        "* Here is the `X` variable that we made before."
      ]
    },
    {
      "cell_type": "code",
      "execution_count": null,
      "metadata": {
        "colab": {
          "base_uri": "https://localhost:8080/"
        },
        "id": "g5xfhW9E2xtK",
        "outputId": "2d349708-51b2-4994-f693-fc63ecae67dc"
      },
      "outputs": [
        {
          "data": {
            "text/plain": [
              "[1, 2, 3, 4, 5]"
            ]
          },
          "execution_count": null,
          "metadata": {},
          "output_type": "execute_result"
        }
      ],
      "source": [
        "X"
      ]
    },
    {
      "cell_type": "markdown",
      "metadata": {
        "id": "eKRtJEfH42um"
      },
      "source": [
        "Script:\n",
        "* And here is the `X` variable converted for use with NumPy."
      ]
    },
    {
      "cell_type": "code",
      "execution_count": null,
      "metadata": {
        "id": "pZqQIZzj2rvl"
      },
      "outputs": [],
      "source": [
        "X_np = np.array(X)"
      ]
    },
    {
      "cell_type": "code",
      "execution_count": null,
      "metadata": {
        "colab": {
          "base_uri": "https://localhost:8080/"
        },
        "id": "up9uIbjO2veq",
        "outputId": "7cafad20-2ef1-4052-edb1-42bbf0442b5b"
      },
      "outputs": [
        {
          "data": {
            "text/plain": [
              "array([1, 2, 3, 4, 5])"
            ]
          },
          "execution_count": null,
          "metadata": {},
          "output_type": "execute_result"
        }
      ],
      "source": [
        "X_np"
      ]
    },
    {
      "cell_type": "markdown",
      "metadata": {
        "id": "5Q6A3XLn49EF"
      },
      "source": [
        "Script:\n",
        "* Normally we would just replace `X` with the NumPy version, but I am keeping them separate to emphasize which version we are using here.\n",
        "* Once we have a NumPy version of `X`, we can call its `mean` method to calculate the mean."
      ]
    },
    {
      "cell_type": "code",
      "execution_count": null,
      "metadata": {
        "colab": {
          "base_uri": "https://localhost:8080/"
        },
        "id": "PmPgVE8i21Y4",
        "outputId": "51dbb8a0-9e92-485d-e688-45ab9105b11c"
      },
      "outputs": [
        {
          "data": {
            "text/plain": [
              "np.float64(3.0)"
            ]
          },
          "execution_count": null,
          "metadata": {},
          "output_type": "execute_result"
        }
      ],
      "source": [
        "X_np.mean()"
      ]
    },
    {
      "cell_type": "markdown",
      "metadata": {
        "id": "5w9kH8_j5Rn-"
      },
      "source": [
        "Script:\n",
        "* NumPy also has another function `np.mean` that does the same calculation if you pass in an array."
      ]
    },
    {
      "cell_type": "code",
      "execution_count": null,
      "metadata": {
        "colab": {
          "base_uri": "https://localhost:8080/"
        },
        "id": "nrSRrJf928iH",
        "outputId": "648da2a4-36f3-409b-ade6-39047f05f0ff"
      },
      "outputs": [
        {
          "data": {
            "text/plain": [
              "np.float64(3.0)"
            ]
          },
          "execution_count": null,
          "metadata": {},
          "output_type": "execute_result"
        }
      ],
      "source": [
        "np.mean(X_np)"
      ]
    },
    {
      "cell_type": "markdown",
      "metadata": {
        "id": "PhM5jEvJ5cBF"
      },
      "source": [
        "Script:\n",
        "* An advantage of `np.mean` is that it will automatically convert its input to the NumPy version as needed.\n",
        "* So we can call it on the original version of `X`."
      ]
    },
    {
      "cell_type": "code",
      "execution_count": null,
      "metadata": {
        "colab": {
          "base_uri": "https://localhost:8080/"
        },
        "id": "7T4bacSV2-13",
        "outputId": "20ff02f3-241b-4087-b628-ad113b61e3f0"
      },
      "outputs": [
        {
          "data": {
            "text/plain": [
              "np.float64(3.0)"
            ]
          },
          "execution_count": null,
          "metadata": {},
          "output_type": "execute_result"
        }
      ],
      "source": [
        "np.mean(X)"
      ]
    },
    {
      "cell_type": "markdown",
      "metadata": {
        "id": "5zIZ7G1m5ren"
      },
      "source": [
        "Script:\n",
        "* Many NumPy functions have two versions like this for convenience.\n",
        "* If you are calculating a lot with the same data, you should convert the data to NumPy once and work with that version.\n",
        "* But you do not need to worry about those details yet."
      ]
    },
    {
      "cell_type": "markdown",
      "metadata": {
        "id": "ONsmwIIv6nDR"
      },
      "source": [
        "## Using Pandas to Calculate the Mean\n",
        "\n",
        "* pandas is a library for data management and visualization.\n",
        "* Will use pandas to load data in mod 1.\n",
        "* More advanced pandas usage in mod 2."
      ]
    },
    {
      "cell_type": "markdown",
      "metadata": {
        "id": "tPJmyRHL7ABL"
      },
      "source": [
        "Script:\n",
        "* The next library that we will look at now is called pandas.\n",
        "* Pandas is a library that makes loading and analyzing data easy.\n",
        "* A common usage pattern is using pandas to load a data file, and then immediately running lots of statistics with pandas."
      ]
    },
    {
      "cell_type": "markdown",
      "metadata": {
        "id": "gzMez8j77vaZ"
      },
      "source": [
        "Script:\n",
        "* Like with NumPy, we need to import the pandas module to access it within our Python code.\n",
        "* Pandas is usually imported with the alias pd."
      ]
    },
    {
      "cell_type": "code",
      "execution_count": null,
      "metadata": {
        "id": "KEbeln5m6E1Y"
      },
      "outputs": [],
      "source": [
        "import pandas as pd"
      ]
    },
    {
      "cell_type": "markdown",
      "metadata": {
        "id": "5L6zzAfK74YS"
      },
      "source": [
        "Script:\n",
        "* Usually we would load a file next.\n",
        "* To continue the previous example, I will manually make a pandas data frame object with the previous data.\n",
        "* You do not need to remember how to do this yet."
      ]
    },
    {
      "cell_type": "code",
      "execution_count": null,
      "metadata": {
        "id": "YyMb7D1J6G94"
      },
      "outputs": [],
      "source": [
        "X_pd = pd.DataFrame(data={\"X\": X})"
      ]
    },
    {
      "cell_type": "code",
      "execution_count": null,
      "metadata": {
        "colab": {
          "base_uri": "https://localhost:8080/",
          "height": 204
        },
        "id": "AmY5N-RE6OZq",
        "outputId": "bd996114-4f34-4127-a374-9e29a8fd2489"
      },
      "outputs": [
        {
          "data": {
            "application/vnd.google.colaboratory.intrinsic+json": {
              "summary": "{\n  \"name\": \"X_pd\",\n  \"rows\": 5,\n  \"fields\": [\n    {\n      \"column\": \"X\",\n      \"properties\": {\n        \"dtype\": \"number\",\n        \"std\": 1,\n        \"min\": 1,\n        \"max\": 5,\n        \"num_unique_values\": 5,\n        \"samples\": [\n          2,\n          5,\n          3\n        ],\n        \"semantic_type\": \"\",\n        \"description\": \"\"\n      }\n    }\n  ]\n}",
              "type": "dataframe",
              "variable_name": "X_pd"
            },
            "text/html": [
              "\n",
              "  <div id=\"df-19a8a61b-1c4e-48a1-9e21-56103a1878b7\" class=\"colab-df-container\">\n",
              "    <div>\n",
              "<style scoped>\n",
              "    .dataframe tbody tr th:only-of-type {\n",
              "        vertical-align: middle;\n",
              "    }\n",
              "\n",
              "    .dataframe tbody tr th {\n",
              "        vertical-align: top;\n",
              "    }\n",
              "\n",
              "    .dataframe thead th {\n",
              "        text-align: right;\n",
              "    }\n",
              "</style>\n",
              "<table border=\"1\" class=\"dataframe\">\n",
              "  <thead>\n",
              "    <tr style=\"text-align: right;\">\n",
              "      <th></th>\n",
              "      <th>X</th>\n",
              "    </tr>\n",
              "  </thead>\n",
              "  <tbody>\n",
              "    <tr>\n",
              "      <th>0</th>\n",
              "      <td>1</td>\n",
              "    </tr>\n",
              "    <tr>\n",
              "      <th>1</th>\n",
              "      <td>2</td>\n",
              "    </tr>\n",
              "    <tr>\n",
              "      <th>2</th>\n",
              "      <td>3</td>\n",
              "    </tr>\n",
              "    <tr>\n",
              "      <th>3</th>\n",
              "      <td>4</td>\n",
              "    </tr>\n",
              "    <tr>\n",
              "      <th>4</th>\n",
              "      <td>5</td>\n",
              "    </tr>\n",
              "  </tbody>\n",
              "</table>\n",
              "</div>\n",
              "    <div class=\"colab-df-buttons\">\n",
              "\n",
              "  <div class=\"colab-df-container\">\n",
              "    <button class=\"colab-df-convert\" onclick=\"convertToInteractive('df-19a8a61b-1c4e-48a1-9e21-56103a1878b7')\"\n",
              "            title=\"Convert this dataframe to an interactive table.\"\n",
              "            style=\"display:none;\">\n",
              "\n",
              "  <svg xmlns=\"http://www.w3.org/2000/svg\" height=\"24px\" viewBox=\"0 -960 960 960\">\n",
              "    <path d=\"M120-120v-720h720v720H120Zm60-500h600v-160H180v160Zm220 220h160v-160H400v160Zm0 220h160v-160H400v160ZM180-400h160v-160H180v160Zm440 0h160v-160H620v160ZM180-180h160v-160H180v160Zm440 0h160v-160H620v160Z\"/>\n",
              "  </svg>\n",
              "    </button>\n",
              "\n",
              "  <style>\n",
              "    .colab-df-container {\n",
              "      display:flex;\n",
              "      gap: 12px;\n",
              "    }\n",
              "\n",
              "    .colab-df-convert {\n",
              "      background-color: #E8F0FE;\n",
              "      border: none;\n",
              "      border-radius: 50%;\n",
              "      cursor: pointer;\n",
              "      display: none;\n",
              "      fill: #1967D2;\n",
              "      height: 32px;\n",
              "      padding: 0 0 0 0;\n",
              "      width: 32px;\n",
              "    }\n",
              "\n",
              "    .colab-df-convert:hover {\n",
              "      background-color: #E2EBFA;\n",
              "      box-shadow: 0px 1px 2px rgba(60, 64, 67, 0.3), 0px 1px 3px 1px rgba(60, 64, 67, 0.15);\n",
              "      fill: #174EA6;\n",
              "    }\n",
              "\n",
              "    .colab-df-buttons div {\n",
              "      margin-bottom: 4px;\n",
              "    }\n",
              "\n",
              "    [theme=dark] .colab-df-convert {\n",
              "      background-color: #3B4455;\n",
              "      fill: #D2E3FC;\n",
              "    }\n",
              "\n",
              "    [theme=dark] .colab-df-convert:hover {\n",
              "      background-color: #434B5C;\n",
              "      box-shadow: 0px 1px 3px 1px rgba(0, 0, 0, 0.15);\n",
              "      filter: drop-shadow(0px 1px 2px rgba(0, 0, 0, 0.3));\n",
              "      fill: #FFFFFF;\n",
              "    }\n",
              "  </style>\n",
              "\n",
              "    <script>\n",
              "      const buttonEl =\n",
              "        document.querySelector('#df-19a8a61b-1c4e-48a1-9e21-56103a1878b7 button.colab-df-convert');\n",
              "      buttonEl.style.display =\n",
              "        google.colab.kernel.accessAllowed ? 'block' : 'none';\n",
              "\n",
              "      async function convertToInteractive(key) {\n",
              "        const element = document.querySelector('#df-19a8a61b-1c4e-48a1-9e21-56103a1878b7');\n",
              "        const dataTable =\n",
              "          await google.colab.kernel.invokeFunction('convertToInteractive',\n",
              "                                                    [key], {});\n",
              "        if (!dataTable) return;\n",
              "\n",
              "        const docLinkHtml = 'Like what you see? Visit the ' +\n",
              "          '<a target=\"_blank\" href=https://colab.research.google.com/notebooks/data_table.ipynb>data table notebook</a>'\n",
              "          + ' to learn more about interactive tables.';\n",
              "        element.innerHTML = '';\n",
              "        dataTable['output_type'] = 'display_data';\n",
              "        await google.colab.output.renderOutput(dataTable, element);\n",
              "        const docLink = document.createElement('div');\n",
              "        docLink.innerHTML = docLinkHtml;\n",
              "        element.appendChild(docLink);\n",
              "      }\n",
              "    </script>\n",
              "  </div>\n",
              "\n",
              "\n",
              "<div id=\"df-05847144-d488-4905-adbb-c17dabc1a881\">\n",
              "  <button class=\"colab-df-quickchart\" onclick=\"quickchart('df-05847144-d488-4905-adbb-c17dabc1a881')\"\n",
              "            title=\"Suggest charts\"\n",
              "            style=\"display:none;\">\n",
              "\n",
              "<svg xmlns=\"http://www.w3.org/2000/svg\" height=\"24px\"viewBox=\"0 0 24 24\"\n",
              "     width=\"24px\">\n",
              "    <g>\n",
              "        <path d=\"M19 3H5c-1.1 0-2 .9-2 2v14c0 1.1.9 2 2 2h14c1.1 0 2-.9 2-2V5c0-1.1-.9-2-2-2zM9 17H7v-7h2v7zm4 0h-2V7h2v10zm4 0h-2v-4h2v4z\"/>\n",
              "    </g>\n",
              "</svg>\n",
              "  </button>\n",
              "\n",
              "<style>\n",
              "  .colab-df-quickchart {\n",
              "      --bg-color: #E8F0FE;\n",
              "      --fill-color: #1967D2;\n",
              "      --hover-bg-color: #E2EBFA;\n",
              "      --hover-fill-color: #174EA6;\n",
              "      --disabled-fill-color: #AAA;\n",
              "      --disabled-bg-color: #DDD;\n",
              "  }\n",
              "\n",
              "  [theme=dark] .colab-df-quickchart {\n",
              "      --bg-color: #3B4455;\n",
              "      --fill-color: #D2E3FC;\n",
              "      --hover-bg-color: #434B5C;\n",
              "      --hover-fill-color: #FFFFFF;\n",
              "      --disabled-bg-color: #3B4455;\n",
              "      --disabled-fill-color: #666;\n",
              "  }\n",
              "\n",
              "  .colab-df-quickchart {\n",
              "    background-color: var(--bg-color);\n",
              "    border: none;\n",
              "    border-radius: 50%;\n",
              "    cursor: pointer;\n",
              "    display: none;\n",
              "    fill: var(--fill-color);\n",
              "    height: 32px;\n",
              "    padding: 0;\n",
              "    width: 32px;\n",
              "  }\n",
              "\n",
              "  .colab-df-quickchart:hover {\n",
              "    background-color: var(--hover-bg-color);\n",
              "    box-shadow: 0 1px 2px rgba(60, 64, 67, 0.3), 0 1px 3px 1px rgba(60, 64, 67, 0.15);\n",
              "    fill: var(--button-hover-fill-color);\n",
              "  }\n",
              "\n",
              "  .colab-df-quickchart-complete:disabled,\n",
              "  .colab-df-quickchart-complete:disabled:hover {\n",
              "    background-color: var(--disabled-bg-color);\n",
              "    fill: var(--disabled-fill-color);\n",
              "    box-shadow: none;\n",
              "  }\n",
              "\n",
              "  .colab-df-spinner {\n",
              "    border: 2px solid var(--fill-color);\n",
              "    border-color: transparent;\n",
              "    border-bottom-color: var(--fill-color);\n",
              "    animation:\n",
              "      spin 1s steps(1) infinite;\n",
              "  }\n",
              "\n",
              "  @keyframes spin {\n",
              "    0% {\n",
              "      border-color: transparent;\n",
              "      border-bottom-color: var(--fill-color);\n",
              "      border-left-color: var(--fill-color);\n",
              "    }\n",
              "    20% {\n",
              "      border-color: transparent;\n",
              "      border-left-color: var(--fill-color);\n",
              "      border-top-color: var(--fill-color);\n",
              "    }\n",
              "    30% {\n",
              "      border-color: transparent;\n",
              "      border-left-color: var(--fill-color);\n",
              "      border-top-color: var(--fill-color);\n",
              "      border-right-color: var(--fill-color);\n",
              "    }\n",
              "    40% {\n",
              "      border-color: transparent;\n",
              "      border-right-color: var(--fill-color);\n",
              "      border-top-color: var(--fill-color);\n",
              "    }\n",
              "    60% {\n",
              "      border-color: transparent;\n",
              "      border-right-color: var(--fill-color);\n",
              "    }\n",
              "    80% {\n",
              "      border-color: transparent;\n",
              "      border-right-color: var(--fill-color);\n",
              "      border-bottom-color: var(--fill-color);\n",
              "    }\n",
              "    90% {\n",
              "      border-color: transparent;\n",
              "      border-bottom-color: var(--fill-color);\n",
              "    }\n",
              "  }\n",
              "</style>\n",
              "\n",
              "  <script>\n",
              "    async function quickchart(key) {\n",
              "      const quickchartButtonEl =\n",
              "        document.querySelector('#' + key + ' button');\n",
              "      quickchartButtonEl.disabled = true;  // To prevent multiple clicks.\n",
              "      quickchartButtonEl.classList.add('colab-df-spinner');\n",
              "      try {\n",
              "        const charts = await google.colab.kernel.invokeFunction(\n",
              "            'suggestCharts', [key], {});\n",
              "      } catch (error) {\n",
              "        console.error('Error during call to suggestCharts:', error);\n",
              "      }\n",
              "      quickchartButtonEl.classList.remove('colab-df-spinner');\n",
              "      quickchartButtonEl.classList.add('colab-df-quickchart-complete');\n",
              "    }\n",
              "    (() => {\n",
              "      let quickchartButtonEl =\n",
              "        document.querySelector('#df-05847144-d488-4905-adbb-c17dabc1a881 button');\n",
              "      quickchartButtonEl.style.display =\n",
              "        google.colab.kernel.accessAllowed ? 'block' : 'none';\n",
              "    })();\n",
              "  </script>\n",
              "</div>\n",
              "\n",
              "  <div id=\"id_3e796ece-0f18-42c8-813d-cf84d5a00ab3\">\n",
              "    <style>\n",
              "      .colab-df-generate {\n",
              "        background-color: #E8F0FE;\n",
              "        border: none;\n",
              "        border-radius: 50%;\n",
              "        cursor: pointer;\n",
              "        display: none;\n",
              "        fill: #1967D2;\n",
              "        height: 32px;\n",
              "        padding: 0 0 0 0;\n",
              "        width: 32px;\n",
              "      }\n",
              "\n",
              "      .colab-df-generate:hover {\n",
              "        background-color: #E2EBFA;\n",
              "        box-shadow: 0px 1px 2px rgba(60, 64, 67, 0.3), 0px 1px 3px 1px rgba(60, 64, 67, 0.15);\n",
              "        fill: #174EA6;\n",
              "      }\n",
              "\n",
              "      [theme=dark] .colab-df-generate {\n",
              "        background-color: #3B4455;\n",
              "        fill: #D2E3FC;\n",
              "      }\n",
              "\n",
              "      [theme=dark] .colab-df-generate:hover {\n",
              "        background-color: #434B5C;\n",
              "        box-shadow: 0px 1px 3px 1px rgba(0, 0, 0, 0.15);\n",
              "        filter: drop-shadow(0px 1px 2px rgba(0, 0, 0, 0.3));\n",
              "        fill: #FFFFFF;\n",
              "      }\n",
              "    </style>\n",
              "    <button class=\"colab-df-generate\" onclick=\"generateWithVariable('X_pd')\"\n",
              "            title=\"Generate code using this dataframe.\"\n",
              "            style=\"display:none;\">\n",
              "\n",
              "  <svg xmlns=\"http://www.w3.org/2000/svg\" height=\"24px\"viewBox=\"0 0 24 24\"\n",
              "       width=\"24px\">\n",
              "    <path d=\"M7,19H8.4L18.45,9,17,7.55,7,17.6ZM5,21V16.75L18.45,3.32a2,2,0,0,1,2.83,0l1.4,1.43a1.91,1.91,0,0,1,.58,1.4,1.91,1.91,0,0,1-.58,1.4L9.25,21ZM18.45,9,17,7.55Zm-12,3A5.31,5.31,0,0,0,4.9,8.1,5.31,5.31,0,0,0,1,6.5,5.31,5.31,0,0,0,4.9,4.9,5.31,5.31,0,0,0,6.5,1,5.31,5.31,0,0,0,8.1,4.9,5.31,5.31,0,0,0,12,6.5,5.46,5.46,0,0,0,6.5,12Z\"/>\n",
              "  </svg>\n",
              "    </button>\n",
              "    <script>\n",
              "      (() => {\n",
              "      const buttonEl =\n",
              "        document.querySelector('#id_3e796ece-0f18-42c8-813d-cf84d5a00ab3 button.colab-df-generate');\n",
              "      buttonEl.style.display =\n",
              "        google.colab.kernel.accessAllowed ? 'block' : 'none';\n",
              "\n",
              "      buttonEl.onclick = () => {\n",
              "        google.colab.notebook.generateWithVariable('X_pd');\n",
              "      }\n",
              "      })();\n",
              "    </script>\n",
              "  </div>\n",
              "\n",
              "    </div>\n",
              "  </div>\n"
            ],
            "text/plain": [
              "   X\n",
              "0  1\n",
              "1  2\n",
              "2  3\n",
              "3  4\n",
              "4  5"
            ]
          },
          "execution_count": null,
          "metadata": {},
          "output_type": "execute_result"
        }
      ],
      "source": [
        "X_pd"
      ]
    },
    {
      "cell_type": "markdown",
      "metadata": {
        "id": "Bumnwx2W8Hm1"
      },
      "source": [
        "Script:\n",
        "* Now we have a pandas data frame, their version of a data set, with one column called X.\n",
        "* Taking the mean of data frame is simple, just like with NumPy."
      ]
    },
    {
      "cell_type": "code",
      "execution_count": null,
      "metadata": {
        "colab": {
          "base_uri": "https://localhost:8080/",
          "height": 114
        },
        "id": "qxFJmjLF6Qfw",
        "outputId": "325a23a1-954f-4051-9453-8a393a6e2095"
      },
      "outputs": [
        {
          "data": {
            "text/html": [
              "<div>\n",
              "<style scoped>\n",
              "    .dataframe tbody tr th:only-of-type {\n",
              "        vertical-align: middle;\n",
              "    }\n",
              "\n",
              "    .dataframe tbody tr th {\n",
              "        vertical-align: top;\n",
              "    }\n",
              "\n",
              "    .dataframe thead th {\n",
              "        text-align: right;\n",
              "    }\n",
              "</style>\n",
              "<table border=\"1\" class=\"dataframe\">\n",
              "  <thead>\n",
              "    <tr style=\"text-align: right;\">\n",
              "      <th></th>\n",
              "      <th>0</th>\n",
              "    </tr>\n",
              "  </thead>\n",
              "  <tbody>\n",
              "    <tr>\n",
              "      <th>X</th>\n",
              "      <td>3.0</td>\n",
              "    </tr>\n",
              "  </tbody>\n",
              "</table>\n",
              "</div><br><label><b>dtype:</b> float64</label>"
            ],
            "text/plain": [
              "X    3.0\n",
              "dtype: float64"
            ]
          },
          "execution_count": null,
          "metadata": {},
          "output_type": "execute_result"
        }
      ],
      "source": [
        "X_pd.mean()"
      ]
    },
    {
      "cell_type": "markdown",
      "metadata": {
        "id": "K5BE6JlB8TtD"
      },
      "source": [
        "Script:\n",
        "* If there were more columns of data, we would get the average of each column separately.\n",
        "* If we wanted, we could also use the NumPy `np.mean` function on this data frame."
      ]
    },
    {
      "cell_type": "code",
      "execution_count": null,
      "metadata": {
        "colab": {
          "base_uri": "https://localhost:8080/"
        },
        "id": "piil6sJ58eCw",
        "outputId": "e3c90b96-7e2f-48eb-9a14-d31201c08413"
      },
      "outputs": [
        {
          "data": {
            "text/plain": [
              "np.float64(3.0)"
            ]
          },
          "execution_count": null,
          "metadata": {},
          "output_type": "execute_result"
        }
      ],
      "source": [
        "np.mean(X_pd)"
      ]
    },
    {
      "cell_type": "markdown",
      "metadata": {
        "id": "h2YbztAb8kJ8"
      },
      "source": [
        "Script:\n",
        "* Pandas and NumPy are designed to work together well."
      ]
    },
    {
      "cell_type": "markdown",
      "metadata": {
        "id": "LSLxhGqexsI4"
      },
      "source": [
        "## Calculating the Standard Deviation with Python\n",
        "\n",
        "$\\mathrm{stdev}(X) = \\sigma_X = \\sqrt{\\frac{\\sum_i (x_i - \\mu_X)^2)}{|X|-1}}$\n"
      ]
    },
    {
      "cell_type": "markdown",
      "metadata": {
        "id": "l0RNqAX_8tLg"
      },
      "source": [
        "Script:\n",
        "* Next, let's look at calculating the standard deviation."
      ]
    },
    {
      "cell_type": "markdown",
      "metadata": {
        "id": "O0_XwXG-9oEJ"
      },
      "source": [
        "Script:\n",
        "* As a reminder, here is our data in `X`."
      ]
    },
    {
      "cell_type": "code",
      "execution_count": null,
      "metadata": {
        "colab": {
          "base_uri": "https://localhost:8080/"
        },
        "id": "97xJeWqV80bT",
        "outputId": "16813ba1-5e15-4c1b-c0a2-15ab5795c32b"
      },
      "outputs": [
        {
          "data": {
            "text/plain": [
              "[1, 2, 3, 4, 5]"
            ]
          },
          "execution_count": null,
          "metadata": {},
          "output_type": "execute_result"
        }
      ],
      "source": [
        "X"
      ]
    },
    {
      "cell_type": "markdown",
      "metadata": {
        "id": "_n5x4BUg9sdE"
      },
      "source": [
        "Script:\n",
        "* And the mean that we calculated before was 3."
      ]
    },
    {
      "cell_type": "code",
      "execution_count": null,
      "metadata": {
        "colab": {
          "base_uri": "https://localhost:8080/"
        },
        "id": "-oiauQz581u5",
        "outputId": "78324312-4fbb-4925-bd95-a26c12efaa24"
      },
      "outputs": [
        {
          "data": {
            "text/plain": [
              "np.float64(3.0)"
            ]
          },
          "execution_count": null,
          "metadata": {},
          "output_type": "execute_result"
        }
      ],
      "source": [
        "np.mean(3)"
      ]
    },
    {
      "cell_type": "markdown",
      "metadata": {
        "id": "Hi2pdDJP9vZC"
      },
      "source": [
        "Script:\n",
        "* Let's start with calculating the differences between values in X and the mean."
      ]
    },
    {
      "cell_type": "code",
      "execution_count": null,
      "metadata": {
        "colab": {
          "base_uri": "https://localhost:8080/"
        },
        "id": "aekn2gOP86Ap",
        "outputId": "f86688eb-2012-4d38-f439-574e6c6c551f"
      },
      "outputs": [
        {
          "data": {
            "text/plain": [
              "[-2, -1, 0, 1, 2]"
            ]
          },
          "execution_count": null,
          "metadata": {},
          "output_type": "execute_result"
        }
      ],
      "source": [
        "[x - 3 for x in X]"
      ]
    },
    {
      "cell_type": "markdown",
      "metadata": {
        "id": "JO0L-1Cg91St"
      },
      "source": [
        "Script:\n",
        "* Next, we will square each of them.\n",
        "* As a reminder, the double asterisk notation is for exponentiation.\n",
        "* We will be using it to square the differences from the mean."
      ]
    },
    {
      "cell_type": "code",
      "execution_count": null,
      "metadata": {
        "colab": {
          "base_uri": "https://localhost:8080/"
        },
        "id": "HNYRYQNH89HI",
        "outputId": "50acabe0-1e52-4c55-c59b-3a454dade2ac"
      },
      "outputs": [
        {
          "data": {
            "text/plain": [
              "[4, 1, 0, 1, 4]"
            ]
          },
          "execution_count": null,
          "metadata": {},
          "output_type": "execute_result"
        }
      ],
      "source": [
        "[(x - 3) ** 2 for x in X]"
      ]
    },
    {
      "cell_type": "markdown",
      "metadata": {
        "id": "2lpCvZQx9-MD"
      },
      "source": [
        "Script:\n",
        "* Then we add them all up."
      ]
    },
    {
      "cell_type": "code",
      "execution_count": null,
      "metadata": {
        "colab": {
          "base_uri": "https://localhost:8080/"
        },
        "id": "3mtY1NUD9BGA",
        "outputId": "f6899bc6-53ce-49b7-fdaa-1d1d3e56e490"
      },
      "outputs": [
        {
          "data": {
            "text/plain": [
              "10"
            ]
          },
          "execution_count": null,
          "metadata": {},
          "output_type": "execute_result"
        }
      ],
      "source": [
        "sum([(x - 3) ** 2 for x in X])"
      ]
    },
    {
      "cell_type": "markdown",
      "metadata": {
        "id": "57vo_SdD-ANt"
      },
      "source": [
        "Script:\n",
        "* And divide by 4.\n",
        "* We are dividing by 4 instead of 5 to avoid biasing this sample standard deviation to be too low."
      ]
    },
    {
      "cell_type": "code",
      "execution_count": null,
      "metadata": {
        "colab": {
          "base_uri": "https://localhost:8080/"
        },
        "id": "C7fFpM359Eaz",
        "outputId": "e3639787-83fd-4d5b-9cea-7d88eca743a6"
      },
      "outputs": [
        {
          "data": {
            "text/plain": [
              "2.5"
            ]
          },
          "execution_count": null,
          "metadata": {},
          "output_type": "execute_result"
        }
      ],
      "source": [
        "sum([(x - 3) ** 2 for x in X]) / 4"
      ]
    },
    {
      "cell_type": "markdown",
      "metadata": {
        "id": "90EEqzjx-PMe"
      },
      "source": [
        "Script:\n",
        "* This value here is the sample variance.\n",
        "* We will cover variance in mod 1.\n",
        "* To calculate the sample standard deviation, we will use the math module for the square root function."
      ]
    },
    {
      "cell_type": "code",
      "execution_count": null,
      "metadata": {
        "id": "fHcNQESr9Ger"
      },
      "outputs": [],
      "source": [
        "import math"
      ]
    },
    {
      "cell_type": "code",
      "execution_count": null,
      "metadata": {
        "colab": {
          "base_uri": "https://localhost:8080/"
        },
        "id": "XZE0EiHx9KtL",
        "outputId": "590867bc-ba09-4213-df4f-4c1a1ffc6d9d"
      },
      "outputs": [
        {
          "data": {
            "text/plain": [
              "1.5811388300841898"
            ]
          },
          "execution_count": null,
          "metadata": {},
          "output_type": "execute_result"
        }
      ],
      "source": [
        "math.sqrt(sum([(x - 3) ** 2 for x in X]) / 4)"
      ]
    },
    {
      "cell_type": "markdown",
      "metadata": {
        "id": "D8TUQWfa-hD-"
      },
      "source": [
        "Script:\n",
        "* We could use exponentiation with power one half instead of the square root function, but most people find this quicker to read.\n",
        "* NumPy also has its own standard deviation function called `np.std`.\n",
        "* Various libraries will call the standard deviation `std` or `stdev` or even `stddev` with two d's."
      ]
    },
    {
      "cell_type": "code",
      "execution_count": null,
      "metadata": {
        "colab": {
          "base_uri": "https://localhost:8080/"
        },
        "id": "1P_6dTf29QRv",
        "outputId": "aac79ac3-38ca-41ce-a67d-a9970cd7ebcf"
      },
      "outputs": [
        {
          "data": {
            "text/plain": [
              "np.float64(1.5811388300841898)"
            ]
          },
          "execution_count": null,
          "metadata": {},
          "output_type": "execute_result"
        }
      ],
      "source": [
        "np.std(X, ddof=1)"
      ]
    },
    {
      "cell_type": "markdown",
      "metadata": {
        "id": "-tsbyVAT_AB9"
      },
      "source": [
        "Script:\n",
        "* The `ddof` parameter is for the sample correction.\n",
        "* If we omit it, then we will get a lower number because of the downward bias."
      ]
    },
    {
      "cell_type": "code",
      "execution_count": null,
      "metadata": {
        "colab": {
          "base_uri": "https://localhost:8080/"
        },
        "id": "Oae54Rgi9S6a",
        "outputId": "362dbaf7-5375-4dbb-db69-3e76d1672739"
      },
      "outputs": [
        {
          "data": {
            "text/plain": [
              "np.float64(1.4142135623730951)"
            ]
          },
          "execution_count": null,
          "metadata": {},
          "output_type": "execute_result"
        }
      ],
      "source": [
        "np.std(X)"
      ]
    },
    {
      "cell_type": "markdown",
      "metadata": {
        "id": "6SP0AvJ2_ODH"
      },
      "source": [
        "Script:\n",
        "* NumPy arrays also have their own `std` method like we saw with the mean."
      ]
    },
    {
      "cell_type": "code",
      "execution_count": null,
      "metadata": {
        "colab": {
          "base_uri": "https://localhost:8080/"
        },
        "id": "oRWtOxW_9WRj",
        "outputId": "ca11d02c-159a-4343-ccf5-8f761d4951b3"
      },
      "outputs": [
        {
          "data": {
            "text/plain": [
              "np.float64(1.5811388300841898)"
            ]
          },
          "execution_count": null,
          "metadata": {},
          "output_type": "execute_result"
        }
      ],
      "source": [
        "X_np.std(ddof=1)"
      ]
    },
    {
      "cell_type": "markdown",
      "metadata": {
        "id": "nm7Wo1Ax_UM5"
      },
      "source": [
        "Script:\n",
        "* And finally, pandas also has its own `std` method that we call just like the NumPy method."
      ]
    },
    {
      "cell_type": "code",
      "execution_count": null,
      "metadata": {
        "colab": {
          "base_uri": "https://localhost:8080/",
          "height": 114
        },
        "id": "XC27cpFo9ati",
        "outputId": "c39489b3-67d8-4ce6-cb01-4ee962055233"
      },
      "outputs": [
        {
          "data": {
            "text/html": [
              "<div>\n",
              "<style scoped>\n",
              "    .dataframe tbody tr th:only-of-type {\n",
              "        vertical-align: middle;\n",
              "    }\n",
              "\n",
              "    .dataframe tbody tr th {\n",
              "        vertical-align: top;\n",
              "    }\n",
              "\n",
              "    .dataframe thead th {\n",
              "        text-align: right;\n",
              "    }\n",
              "</style>\n",
              "<table border=\"1\" class=\"dataframe\">\n",
              "  <thead>\n",
              "    <tr style=\"text-align: right;\">\n",
              "      <th></th>\n",
              "      <th>0</th>\n",
              "    </tr>\n",
              "  </thead>\n",
              "  <tbody>\n",
              "    <tr>\n",
              "      <th>X</th>\n",
              "      <td>1.581139</td>\n",
              "    </tr>\n",
              "  </tbody>\n",
              "</table>\n",
              "</div><br><label><b>dtype:</b> float64</label>"
            ],
            "text/plain": [
              "X    1.581139\n",
              "dtype: float64"
            ]
          },
          "execution_count": null,
          "metadata": {},
          "output_type": "execute_result"
        }
      ],
      "source": [
        "X_pd.std(ddof=1)"
      ]
    },
    {
      "cell_type": "markdown",
      "metadata": {
        "id": "XSwXYRgV3Mdi"
      },
      "source": [
        "Script:\n",
        "* One last thing before wrapping up this video.\n",
        "* If you have your data in a pandas data frame, pandas has a really convenient method `describe` which will give you many different statistics all at once."
      ]
    },
    {
      "cell_type": "code",
      "execution_count": null,
      "metadata": {
        "colab": {
          "base_uri": "https://localhost:8080/",
          "height": 297
        },
        "id": "7z3Egl1T7n1t",
        "outputId": "7280c34f-1252-41ba-ddcf-769a10f243e8"
      },
      "outputs": [
        {
          "data": {
            "application/vnd.google.colaboratory.intrinsic+json": {
              "summary": "{\n  \"name\": \"X_pd\",\n  \"rows\": 8,\n  \"fields\": [\n    {\n      \"column\": \"X\",\n      \"properties\": {\n        \"dtype\": \"number\",\n        \"std\": 1.5104848666672712,\n        \"min\": 1.0,\n        \"max\": 5.0,\n        \"num_unique_values\": 6,\n        \"samples\": [\n          5.0,\n          3.0,\n          4.0\n        ],\n        \"semantic_type\": \"\",\n        \"description\": \"\"\n      }\n    }\n  ]\n}",
              "type": "dataframe"
            },
            "text/html": [
              "\n",
              "  <div id=\"df-ba945f5c-df9e-4407-b635-19057bc9040d\" class=\"colab-df-container\">\n",
              "    <div>\n",
              "<style scoped>\n",
              "    .dataframe tbody tr th:only-of-type {\n",
              "        vertical-align: middle;\n",
              "    }\n",
              "\n",
              "    .dataframe tbody tr th {\n",
              "        vertical-align: top;\n",
              "    }\n",
              "\n",
              "    .dataframe thead th {\n",
              "        text-align: right;\n",
              "    }\n",
              "</style>\n",
              "<table border=\"1\" class=\"dataframe\">\n",
              "  <thead>\n",
              "    <tr style=\"text-align: right;\">\n",
              "      <th></th>\n",
              "      <th>X</th>\n",
              "    </tr>\n",
              "  </thead>\n",
              "  <tbody>\n",
              "    <tr>\n",
              "      <th>count</th>\n",
              "      <td>5.000000</td>\n",
              "    </tr>\n",
              "    <tr>\n",
              "      <th>mean</th>\n",
              "      <td>3.000000</td>\n",
              "    </tr>\n",
              "    <tr>\n",
              "      <th>std</th>\n",
              "      <td>1.581139</td>\n",
              "    </tr>\n",
              "    <tr>\n",
              "      <th>min</th>\n",
              "      <td>1.000000</td>\n",
              "    </tr>\n",
              "    <tr>\n",
              "      <th>25%</th>\n",
              "      <td>2.000000</td>\n",
              "    </tr>\n",
              "    <tr>\n",
              "      <th>50%</th>\n",
              "      <td>3.000000</td>\n",
              "    </tr>\n",
              "    <tr>\n",
              "      <th>75%</th>\n",
              "      <td>4.000000</td>\n",
              "    </tr>\n",
              "    <tr>\n",
              "      <th>max</th>\n",
              "      <td>5.000000</td>\n",
              "    </tr>\n",
              "  </tbody>\n",
              "</table>\n",
              "</div>\n",
              "    <div class=\"colab-df-buttons\">\n",
              "\n",
              "  <div class=\"colab-df-container\">\n",
              "    <button class=\"colab-df-convert\" onclick=\"convertToInteractive('df-ba945f5c-df9e-4407-b635-19057bc9040d')\"\n",
              "            title=\"Convert this dataframe to an interactive table.\"\n",
              "            style=\"display:none;\">\n",
              "\n",
              "  <svg xmlns=\"http://www.w3.org/2000/svg\" height=\"24px\" viewBox=\"0 -960 960 960\">\n",
              "    <path d=\"M120-120v-720h720v720H120Zm60-500h600v-160H180v160Zm220 220h160v-160H400v160Zm0 220h160v-160H400v160ZM180-400h160v-160H180v160Zm440 0h160v-160H620v160ZM180-180h160v-160H180v160Zm440 0h160v-160H620v160Z\"/>\n",
              "  </svg>\n",
              "    </button>\n",
              "\n",
              "  <style>\n",
              "    .colab-df-container {\n",
              "      display:flex;\n",
              "      gap: 12px;\n",
              "    }\n",
              "\n",
              "    .colab-df-convert {\n",
              "      background-color: #E8F0FE;\n",
              "      border: none;\n",
              "      border-radius: 50%;\n",
              "      cursor: pointer;\n",
              "      display: none;\n",
              "      fill: #1967D2;\n",
              "      height: 32px;\n",
              "      padding: 0 0 0 0;\n",
              "      width: 32px;\n",
              "    }\n",
              "\n",
              "    .colab-df-convert:hover {\n",
              "      background-color: #E2EBFA;\n",
              "      box-shadow: 0px 1px 2px rgba(60, 64, 67, 0.3), 0px 1px 3px 1px rgba(60, 64, 67, 0.15);\n",
              "      fill: #174EA6;\n",
              "    }\n",
              "\n",
              "    .colab-df-buttons div {\n",
              "      margin-bottom: 4px;\n",
              "    }\n",
              "\n",
              "    [theme=dark] .colab-df-convert {\n",
              "      background-color: #3B4455;\n",
              "      fill: #D2E3FC;\n",
              "    }\n",
              "\n",
              "    [theme=dark] .colab-df-convert:hover {\n",
              "      background-color: #434B5C;\n",
              "      box-shadow: 0px 1px 3px 1px rgba(0, 0, 0, 0.15);\n",
              "      filter: drop-shadow(0px 1px 2px rgba(0, 0, 0, 0.3));\n",
              "      fill: #FFFFFF;\n",
              "    }\n",
              "  </style>\n",
              "\n",
              "    <script>\n",
              "      const buttonEl =\n",
              "        document.querySelector('#df-ba945f5c-df9e-4407-b635-19057bc9040d button.colab-df-convert');\n",
              "      buttonEl.style.display =\n",
              "        google.colab.kernel.accessAllowed ? 'block' : 'none';\n",
              "\n",
              "      async function convertToInteractive(key) {\n",
              "        const element = document.querySelector('#df-ba945f5c-df9e-4407-b635-19057bc9040d');\n",
              "        const dataTable =\n",
              "          await google.colab.kernel.invokeFunction('convertToInteractive',\n",
              "                                                    [key], {});\n",
              "        if (!dataTable) return;\n",
              "\n",
              "        const docLinkHtml = 'Like what you see? Visit the ' +\n",
              "          '<a target=\"_blank\" href=https://colab.research.google.com/notebooks/data_table.ipynb>data table notebook</a>'\n",
              "          + ' to learn more about interactive tables.';\n",
              "        element.innerHTML = '';\n",
              "        dataTable['output_type'] = 'display_data';\n",
              "        await google.colab.output.renderOutput(dataTable, element);\n",
              "        const docLink = document.createElement('div');\n",
              "        docLink.innerHTML = docLinkHtml;\n",
              "        element.appendChild(docLink);\n",
              "      }\n",
              "    </script>\n",
              "  </div>\n",
              "\n",
              "\n",
              "<div id=\"df-67003f88-cf3e-4bc8-b054-5104a369692b\">\n",
              "  <button class=\"colab-df-quickchart\" onclick=\"quickchart('df-67003f88-cf3e-4bc8-b054-5104a369692b')\"\n",
              "            title=\"Suggest charts\"\n",
              "            style=\"display:none;\">\n",
              "\n",
              "<svg xmlns=\"http://www.w3.org/2000/svg\" height=\"24px\"viewBox=\"0 0 24 24\"\n",
              "     width=\"24px\">\n",
              "    <g>\n",
              "        <path d=\"M19 3H5c-1.1 0-2 .9-2 2v14c0 1.1.9 2 2 2h14c1.1 0 2-.9 2-2V5c0-1.1-.9-2-2-2zM9 17H7v-7h2v7zm4 0h-2V7h2v10zm4 0h-2v-4h2v4z\"/>\n",
              "    </g>\n",
              "</svg>\n",
              "  </button>\n",
              "\n",
              "<style>\n",
              "  .colab-df-quickchart {\n",
              "      --bg-color: #E8F0FE;\n",
              "      --fill-color: #1967D2;\n",
              "      --hover-bg-color: #E2EBFA;\n",
              "      --hover-fill-color: #174EA6;\n",
              "      --disabled-fill-color: #AAA;\n",
              "      --disabled-bg-color: #DDD;\n",
              "  }\n",
              "\n",
              "  [theme=dark] .colab-df-quickchart {\n",
              "      --bg-color: #3B4455;\n",
              "      --fill-color: #D2E3FC;\n",
              "      --hover-bg-color: #434B5C;\n",
              "      --hover-fill-color: #FFFFFF;\n",
              "      --disabled-bg-color: #3B4455;\n",
              "      --disabled-fill-color: #666;\n",
              "  }\n",
              "\n",
              "  .colab-df-quickchart {\n",
              "    background-color: var(--bg-color);\n",
              "    border: none;\n",
              "    border-radius: 50%;\n",
              "    cursor: pointer;\n",
              "    display: none;\n",
              "    fill: var(--fill-color);\n",
              "    height: 32px;\n",
              "    padding: 0;\n",
              "    width: 32px;\n",
              "  }\n",
              "\n",
              "  .colab-df-quickchart:hover {\n",
              "    background-color: var(--hover-bg-color);\n",
              "    box-shadow: 0 1px 2px rgba(60, 64, 67, 0.3), 0 1px 3px 1px rgba(60, 64, 67, 0.15);\n",
              "    fill: var(--button-hover-fill-color);\n",
              "  }\n",
              "\n",
              "  .colab-df-quickchart-complete:disabled,\n",
              "  .colab-df-quickchart-complete:disabled:hover {\n",
              "    background-color: var(--disabled-bg-color);\n",
              "    fill: var(--disabled-fill-color);\n",
              "    box-shadow: none;\n",
              "  }\n",
              "\n",
              "  .colab-df-spinner {\n",
              "    border: 2px solid var(--fill-color);\n",
              "    border-color: transparent;\n",
              "    border-bottom-color: var(--fill-color);\n",
              "    animation:\n",
              "      spin 1s steps(1) infinite;\n",
              "  }\n",
              "\n",
              "  @keyframes spin {\n",
              "    0% {\n",
              "      border-color: transparent;\n",
              "      border-bottom-color: var(--fill-color);\n",
              "      border-left-color: var(--fill-color);\n",
              "    }\n",
              "    20% {\n",
              "      border-color: transparent;\n",
              "      border-left-color: var(--fill-color);\n",
              "      border-top-color: var(--fill-color);\n",
              "    }\n",
              "    30% {\n",
              "      border-color: transparent;\n",
              "      border-left-color: var(--fill-color);\n",
              "      border-top-color: var(--fill-color);\n",
              "      border-right-color: var(--fill-color);\n",
              "    }\n",
              "    40% {\n",
              "      border-color: transparent;\n",
              "      border-right-color: var(--fill-color);\n",
              "      border-top-color: var(--fill-color);\n",
              "    }\n",
              "    60% {\n",
              "      border-color: transparent;\n",
              "      border-right-color: var(--fill-color);\n",
              "    }\n",
              "    80% {\n",
              "      border-color: transparent;\n",
              "      border-right-color: var(--fill-color);\n",
              "      border-bottom-color: var(--fill-color);\n",
              "    }\n",
              "    90% {\n",
              "      border-color: transparent;\n",
              "      border-bottom-color: var(--fill-color);\n",
              "    }\n",
              "  }\n",
              "</style>\n",
              "\n",
              "  <script>\n",
              "    async function quickchart(key) {\n",
              "      const quickchartButtonEl =\n",
              "        document.querySelector('#' + key + ' button');\n",
              "      quickchartButtonEl.disabled = true;  // To prevent multiple clicks.\n",
              "      quickchartButtonEl.classList.add('colab-df-spinner');\n",
              "      try {\n",
              "        const charts = await google.colab.kernel.invokeFunction(\n",
              "            'suggestCharts', [key], {});\n",
              "      } catch (error) {\n",
              "        console.error('Error during call to suggestCharts:', error);\n",
              "      }\n",
              "      quickchartButtonEl.classList.remove('colab-df-spinner');\n",
              "      quickchartButtonEl.classList.add('colab-df-quickchart-complete');\n",
              "    }\n",
              "    (() => {\n",
              "      let quickchartButtonEl =\n",
              "        document.querySelector('#df-67003f88-cf3e-4bc8-b054-5104a369692b button');\n",
              "      quickchartButtonEl.style.display =\n",
              "        google.colab.kernel.accessAllowed ? 'block' : 'none';\n",
              "    })();\n",
              "  </script>\n",
              "</div>\n",
              "\n",
              "    </div>\n",
              "  </div>\n"
            ],
            "text/plain": [
              "              X\n",
              "count  5.000000\n",
              "mean   3.000000\n",
              "std    1.581139\n",
              "min    1.000000\n",
              "25%    2.000000\n",
              "50%    3.000000\n",
              "75%    4.000000\n",
              "max    5.000000"
            ]
          },
          "execution_count": null,
          "metadata": {},
          "output_type": "execute_result"
        }
      ],
      "source": [
        "X_pd.describe()"
      ]
    },
    {
      "cell_type": "markdown",
      "metadata": {
        "id": "Tzm6HM5L_qXe"
      },
      "source": [
        "Script:\n",
        "* That output has the number of entries with values, mean and standard deviation that we already saw, plus the minimum, maximum, and all the quartiles in between.\n",
        "* We will look at those more in both modules 1 and 2, but you should be seeing already that these stats are easy to compute with Python and these libraries in your toolkit."
      ]
    }
  ],
  "metadata": {
    "colab": {},
    "kernelspec": {
      "display_name": "Python 3",
      "name": "python3"
    },
    "language_info": {
      "codemirror_mode": {
        "name": "ipython",
        "version": 3
      },
      "file_extension": ".py",
      "mimetype": "text/x-python",
      "name": "python",
      "nbconvert_exporter": "python",
      "pygments_lexer": "ipython3",
      "version": "3.9.6"
    }
  },
  "nbformat": 4,
  "nbformat_minor": 0
}